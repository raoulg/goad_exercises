{
 "cells": [
  {
   "cell_type": "code",
   "execution_count": null,
   "metadata": {},
   "outputs": [],
   "source": [
    "from dataclasses import dataclass\n",
    "\n",
    "\n",
    "@dataclass\n",
    "class Point:\n",
    "    x: float\n",
    "    y: float\n",
    "\n",
    "    # lets add a dunder method to nicely format the point if we print it\n",
    "    def __repr__(self) -> str:\n",
    "        return f\"Point({self.x:.2f}, {self.y:.2f})\""
   ]
  },
  {
   "cell_type": "markdown",
   "metadata": {},
   "source": [
    "Let's start with creating a dataclass. They were introduced with python 3.7 with [PEP 557](https://peps.python.org/pep-0557/).\n",
    "\n",
    "For more examples, and alternatives to dataclasses, see the [codestyle library](https://github.com/raoulg/codestyle/blob/main/docs/pydantic.md) entry on dataclasses and pydantic\n"
   ]
  },
  {
   "cell_type": "code",
   "execution_count": null,
   "metadata": {},
   "outputs": [],
   "source": [
    "p = Point(2.0, 3.0)\n",
    "p"
   ]
  },
  {
   "cell_type": "markdown",
   "metadata": {},
   "source": [
    "This notebook wants to showcase a basic monte carlo techniques. In general, monte carlo techniques are very useful when it is difficult to calculate the exact solution. Sometimes it is much easier (or sometimes the only option!) to get the answer with sampling techniques.\n",
    "\n",
    "The basic idea is this: yes, we know we can derive $\\pi$, that described the relationship between the circumference and the diameter of a circle, analytical. But what if we didn't know that? How could we estimate $\\pi$? \n",
    "\n",
    "The idea is: let's take a circle inside a square, and lets drop random balls in the square. Some balls will fall inside the circle, some will fall outside the circle. The totality of balls dropped in the square gives us an idea of the area of the square. The balls that fall inside the circle give us an idea of the area of the circle. If we divide the area of the circle by the area of the square, we get an estimate of $\\pi$:\n",
    "\n",
    "First, we will create a `MonteCarloCircle` class, where we store the radius of the circle, and we prepare a uniform distribution that will simulate dropping random balls inside the square.\n",
    "\n",
    "We will add a `.generate_points` method, that will randomly generate a point within the square (where the ball is dropped).\n",
    "\n",
    "Then, we will add a method that finds out if the ball is inside the circle, using pythagoras theorem.\n",
    "\n",
    "Finally, we add a method that gives us a generator that will drop balls and tell us if they are inside the circle or not until we interupt it."
   ]
  },
  {
   "cell_type": "code",
   "execution_count": null,
   "metadata": {},
   "outputs": [],
   "source": [
    "from scipy import stats\n",
    "\n",
    "\n",
    "class MonteCarloCirle:\n",
    "    def __init__(self, radius: float) -> None:\n",
    "        self.radius = radius\n",
    "        self.dist = stats.uniform(loc=-radius, scale=2 * radius)\n",
    "\n",
    "    def __repr__(self) -> str:\n",
    "        return f\"MonteCarloCirle(radius={self.radius:.2f})\"\n",
    "\n",
    "    def generate_points(self) -> Point:\n",
    "        x, y = self.dist.rvs(2)\n",
    "        return Point(x, y)\n",
    "\n",
    "    def is_in_circle(self, point: Point) -> bool:\n",
    "        return (point.x**2 + point.y**2) <= self.radius**2\n",
    "\n",
    "    # yield points and whether they are in the circle\n",
    "    def generate(self) -> tuple[Point, bool]:\n",
    "        while True:\n",
    "            point = self.generate_points()\n",
    "            yield point, self.is_in_circle(point)"
   ]
  },
  {
   "cell_type": "markdown",
   "metadata": {},
   "source": [
    "Lets check how this works:"
   ]
  },
  {
   "cell_type": "code",
   "execution_count": null,
   "metadata": {},
   "outputs": [],
   "source": [
    "pointgenerator = MonteCarloCirle(radius=1).generate()\n",
    "next(pointgenerator)"
   ]
  },
  {
   "cell_type": "markdown",
   "metadata": {},
   "source": [
    "Looks good. We get coordinates of points inside the square, and we get a boolean that tells us if the point is inside the circle or not.\n",
    "\n",
    "Now, lets run this simulation for 500 times, and plot the result."
   ]
  },
  {
   "cell_type": "code",
   "execution_count": null,
   "metadata": {},
   "outputs": [],
   "source": [
    "import matplotlib.pyplot as plt\n",
    "import seaborn as sns\n",
    "\n",
    "fig, ax = plt.subplots(figsize=(5, 5))\n",
    "\n",
    "for _ in range(500):\n",
    "    point, inside = next(pointgenerator)\n",
    "    ax.scatter(point.x, point.y, color=\"red\" if inside else \"blue\", alpha=0.3)"
   ]
  },
  {
   "cell_type": "markdown",
   "metadata": {},
   "source": [
    "The area of the square is $(r * 2)^2$, while the area of the circle is $\\pi r^2$. The ratio of the two is:\n",
    "\n",
    "$$\\frac{\\pi r^2}{(2r)^2} = \\frac{\\pi}{4}$$\n",
    "\n",
    "Because we can rewrite $(r*2)^2$ as $4r^2$, and remove $r^2$ from the numerator and denominator.\n",
    "\n",
    "This means, if we randomly sample points in the square, the ratio of points in the circle to the total number of points should be $\\pi / 4$.\n",
    "\n",
    "So we can estimate $\\pi$ by multiplying the ratio $\\frac{inside}{total}$ by 4.\n",
    "\n",
    "Lets wrap this in a method that approximates $\\pi$ for us:"
   ]
  },
  {
   "cell_type": "code",
   "execution_count": null,
   "metadata": {},
   "outputs": [],
   "source": [
    "class ApproxPi:\n",
    "    def __init__(self, maximum: int, report: int) -> None:\n",
    "        self.max = maximum\n",
    "        self.pointgenerator = MonteCarloCirle(radius=1).generate()\n",
    "        self.inside = 0\n",
    "        self.total = 0\n",
    "        self.report = report\n",
    "        self.log = []\n",
    "\n",
    "    def run(self) -> list:\n",
    "        for _ in range(self.max):\n",
    "            self.total += 1\n",
    "            _, is_inside = next(self.pointgenerator)\n",
    "            if is_inside:\n",
    "                self.inside += 1\n",
    "\n",
    "            if self.total % self.report == 0:\n",
    "                self.log.append(4 * self.inside / self.total)\n",
    "\n",
    "        return self.log"
   ]
  },
  {
   "cell_type": "markdown",
   "metadata": {},
   "source": [
    "Now lets test it!"
   ]
  },
  {
   "cell_type": "code",
   "execution_count": null,
   "metadata": {},
   "outputs": [],
   "source": [
    "import numpy as np\n",
    "\n",
    "approx_pi = ApproxPi(maximum=40000, report=100).run()\n",
    "approx_pi[-1] - np.pi"
   ]
  },
  {
   "cell_type": "markdown",
   "metadata": {},
   "source": [
    "Ok, not bad! When I did this, I got a difference of 0.008. However, this is a random process! This means that if we run it again, we will get a different result!\n",
    "\n",
    "Also, the first few results (lets say, for the first 1000 points) can be way off. The process will converge towards the correct value, so it makes sense to drop the first few results. This is often called the \"burn-in\" period.\n",
    "\n",
    "Often, in monte carlo simulations, we want to take the average or standard deviation after a burn in. In our case, we take can just take the last fraction of the results, because that will be the most accurate.\n",
    "\n",
    "Lets run 16 threads, and see how the results converge."
   ]
  },
  {
   "cell_type": "code",
   "execution_count": null,
   "metadata": {},
   "outputs": [],
   "source": [
    "avg_result = []\n",
    "threads = 16\n",
    "max_runs = 20000\n",
    "report_every = 100\n",
    "custom_palette = sns.color_palette(\"rocket\", threads)\n",
    "\n",
    "for i in range(threads):\n",
    "    approx_pi = ApproxPi(maximum=max_runs, report=report_every).run()\n",
    "    # use colors from 'Set1' palette\n",
    "    plt.plot(range(len(approx_pi)), approx_pi, color=custom_palette[i], alpha=0.6)\n",
    "    avg_result.append(approx_pi[-1])  # we just keep the last fraction\n",
    "\n",
    "# add a horizontal line at pi for reference\n",
    "plt.axhline(y=3.1415, color=\"red\", linestyle=\"--\")\n",
    "diff = np.pi - np.mean(avg_result)\n",
    "print(f\"The difference between the average of the {threads} runs and pi is {diff:.6f}\")"
   ]
  }
 ],
 "metadata": {
  "kernelspec": {
   "display_name": "course-materials-uos1-KNtHm8fd-mads-course",
   "language": "python",
   "name": "python3"
  },
  "language_info": {
   "codemirror_mode": {
    "name": "ipython",
    "version": 3
   },
   "file_extension": ".py",
   "mimetype": "text/x-python",
   "name": "python",
   "nbconvert_exporter": "python",
   "pygments_lexer": "ipython3",
   "version": "3.11.5"
  }
 },
 "nbformat": 4,
 "nbformat_minor": 2
}
