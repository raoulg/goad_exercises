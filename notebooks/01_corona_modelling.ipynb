{
 "cells": [
  {
   "cell_type": "markdown",
   "metadata": {},
   "source": [
    "# 1. Explore the data"
   ]
  },
  {
   "cell_type": "markdown",
   "metadata": {},
   "source": [
    "Load some basic libraries."
   ]
  },
  {
   "cell_type": "code",
   "execution_count": null,
   "metadata": {},
   "outputs": [],
   "source": [
    "from goad_toolkit.config import DataConfig, FileConfig\n",
    "from pathlib import Path\n",
    "from loguru import logger\n",
    "import matplotlib.pyplot as plt\n",
    "import numpy as np\n",
    "import pandas as pd"
   ]
  },
  {
   "cell_type": "markdown",
   "metadata": {},
   "source": [
    "Lets load the data"
   ]
  },
  {
   "cell_type": "code",
   "execution_count": null,
   "metadata": {},
   "outputs": [],
   "source": [
    "fileconfig = FileConfig(data_dir=Path(\"../data/\"))\n",
    "dataconfig = DataConfig()\n",
    "fileconfig, dataconfig"
   ]
  },
  {
   "cell_type": "markdown",
   "metadata": {},
   "source": [
    "Try to explore the data for yourself"
   ]
  },
  {
   "cell_type": "code",
   "execution_count": null,
   "metadata": {},
   "outputs": [],
   "source": [
    "from goad_toolkit.dataprocessor import DataProcessor\n",
    "from goad_toolkit.datatransforms import SelectDataRange, DiffValues, ZScaler, RollingAvg\n",
    "\n",
    "\n",
    "class YourPreprocessor(DataProcessor):\n",
    "    def config_pipeline(self, dataconfig: DataConfig):\n",
    "        self.pipeline.add(DiffValues, column=\"deaths\")\n",
    "        self.pipeline.add(\n",
    "            SelectDataRange,\n",
    "            start_date=dataconfig.start_date,\n",
    "            end_date=dataconfig.end_date,\n",
    "        )\n",
    "        self.pipeline.add(RollingAvg, column=\"deaths\", window=dataconfig.window)\n",
    "        self.pipeline.add(RollingAvg, column=\"positivetests\", window=dataconfig.window)\n",
    "        self.pipeline.add(ZScaler, column=\"deaths\", rename=True)\n",
    "        self.pipeline.add(ZScaler, column=\"positivetests\", rename=True)\n",
    "\n",
    "\n",
    "preprocessor = YourPreprocessor(fileconfig, dataconfig)\n",
    "df = preprocessor.process(raw=True)\n",
    "df.head()"
   ]
  },
  {
   "cell_type": "code",
   "execution_count": null,
   "metadata": {},
   "outputs": [],
   "source": [
    "plt.plot(df.index, df[\"deaths_zscore\"])\n",
    "plt.plot(df.index, df[\"positivetests_zscore\"])\n",
    "plt.title(\"Deaths vs Positive Tests (smooted)\")\n",
    "plt.xticks(rotation=45)\n",
    "plt.ylabel(\"Z-Score\")"
   ]
  },
  {
   "cell_type": "markdown",
   "metadata": {},
   "source": [
    "Compare your preprocessing with mine. Try to understand why I did what I did."
   ]
  },
  {
   "cell_type": "code",
   "execution_count": null,
   "metadata": {},
   "outputs": [],
   "source": [
    "from goad_toolkit.dataprocessor import CovidDataProcessor\n",
    "\n",
    "covidprocessor = CovidDataProcessor(fileconfig, dataconfig)\n",
    "data = covidprocessor.process(save=True)\n",
    "data.head()"
   ]
  },
  {
   "cell_type": "markdown",
   "metadata": {},
   "source": []
  },
  {
   "cell_type": "code",
   "execution_count": null,
   "metadata": {},
   "outputs": [],
   "source": []
  },
  {
   "cell_type": "code",
   "execution_count": null,
   "metadata": {},
   "outputs": [],
   "source": []
  },
  {
   "cell_type": "markdown",
   "metadata": {},
   "source": [
    "# 2. Model the data"
   ]
  },
  {
   "cell_type": "markdown",
   "metadata": {},
   "source": [
    "We can model the vaccination effect as a logistic function."
   ]
  },
  {
   "cell_type": "code",
   "execution_count": null,
   "metadata": {},
   "outputs": [],
   "source": [
    "from goad_toolkit.models import logistic\n",
    "from goad_toolkit.visualizer import ComparePlot, PlotSettings\n",
    "\n",
    "x = np.linspace(-10, 10, 1000)\n",
    "y1 = logistic(x, k=1, x0=0)\n",
    "y2 = logistic(x, k=-0.5, x0=0)\n",
    "\n",
    "example = pd.DataFrame(\n",
    "    {\n",
    "        \"x\": x,\n",
    "        \"y1(k=1)\": y1,\n",
    "        \"y2(k=-0.5)\": y2,\n",
    "    }\n",
    ")\n",
    "settings = PlotSettings(title=\"Logistic Function Example\")\n",
    "compareplot = ComparePlot(settings)\n",
    "fig, ax = compareplot.plot(data=example, x=\"x\", y1=\"y1(k=1)\", y2=\"y2(k=-0.5)\")"
   ]
  },
  {
   "cell_type": "markdown",
   "metadata": {},
   "source": [
    "We will need to fit the variables of the logistic function to the data.\n",
    "\n",
    "this means:\n",
    "- k: how fast moves the curve from 0 to 1 (or from 1 to 0)\n",
    "- x0: the point where the curve is at 0.5\n",
    "- limit: we can keep it at 1\n",
    "\n",
    "This means, we will need the index of the dates as a list of numbers (0, 1, ..., n) and fit the logistic function with x0 as the date where the curve is at 0.5 and k as the slope of the curve. So lets add the index as a list of integers to the data."
   ]
  },
  {
   "cell_type": "code",
   "execution_count": null,
   "metadata": {},
   "outputs": [],
   "source": [
    "x = data[\"positivetests\"].values\n",
    "y = data[\"deaths\"].values\n",
    "data_idx = np.arange(len(x))\n",
    "X = np.stack([x, data_idx], axis=1)\n",
    "X.shape, y.shape"
   ]
  },
  {
   "cell_type": "markdown",
   "metadata": {},
   "source": [
    "Now it is up to you to add the logistic function to the model.\n",
    "Below is a naive model, that ignores the parameters and just returns the shifted amount of positive tests.\n",
    "\n",
    "Think about initial parameters, based on your data visualizations."
   ]
  },
  {
   "cell_type": "code",
   "execution_count": null,
   "metadata": {},
   "outputs": [],
   "source": [
    "def covid_model(X: np.ndarray, params: list[float]) -> np.ndarray:\n",
    "    \"\"\"your improved model here\"\"\"\n",
    "    return X[:, 0]\n",
    "\n",
    "\n",
    "initial_params = [1.0, 1.0, -1.0, 60.0]  # dummy parameters\n",
    "initial_predict = covid_model(X, initial_params)"
   ]
  },
  {
   "cell_type": "code",
   "execution_count": null,
   "metadata": {},
   "outputs": [],
   "source": []
  },
  {
   "cell_type": "code",
   "execution_count": null,
   "metadata": {},
   "outputs": [],
   "source": []
  },
  {
   "cell_type": "code",
   "execution_count": null,
   "metadata": {},
   "outputs": [],
   "source": []
  },
  {
   "cell_type": "markdown",
   "metadata": {},
   "source": [
    "# 3. Train the model"
   ]
  },
  {
   "cell_type": "markdown",
   "metadata": {},
   "source": [
    "now, with your updated model, train it such that we can fit the parameters to the data."
   ]
  },
  {
   "cell_type": "code",
   "execution_count": null,
   "metadata": {},
   "outputs": [],
   "source": [
    "from goad_toolkit.models import train_model, mse\n",
    "\n",
    "try:\n",
    "    params = train_model(X, y, covid_model, mse, initial_params)\n",
    "    logger.success(f\"Model training finished with: {params}\")\n",
    "except Exception as e:\n",
    "    logger.error(f\"Model training failed: {e}\")\n",
    "    params = []\n",
    "a, b, k, x0 = params"
   ]
  },
  {
   "cell_type": "markdown",
   "metadata": {},
   "source": [
    "Lets first visualize just the logistic curve. Does it align with the data? Especially the point where vaccination starts?"
   ]
  },
  {
   "cell_type": "code",
   "execution_count": null,
   "metadata": {},
   "outputs": [],
   "source": [
    "from goad_toolkit.visualizer import ComparePlotDate\n",
    "import pandas as pd\n",
    "\n",
    "data[\"logistic model\"] = logistic(\n",
    "    x=X[:, 1], k=k, x0=x0\n",
    ")  # your fitted parameters k and x0\n",
    "\n",
    "start = \"2021-01-06\"\n",
    "settings = PlotSettings(\n",
    "    title=\"Vaccination Effect\", xlabel=\"Date\", ylabel=\"Scaled Values\"\n",
    ")\n",
    "comparedate = ComparePlotDate(settings)\n",
    "comparedate.plot(\n",
    "    data=data,\n",
    "    x=\"date\",\n",
    "    y1=\"deaths_shifted_zscore\",\n",
    "    y2=\"logistic model\",\n",
    "    date=start,\n",
    "    datelabel=\"Start vaccinations\",\n",
    ")"
   ]
  },
  {
   "cell_type": "markdown",
   "metadata": {},
   "source": [
    "If this is not what you expect, go back to 2."
   ]
  },
  {
   "cell_type": "markdown",
   "metadata": {},
   "source": [
    "# 4. Predict"
   ]
  },
  {
   "cell_type": "markdown",
   "metadata": {},
   "source": [
    "Now, if the model seems to work as expected, lets do a full prediction."
   ]
  },
  {
   "cell_type": "code",
   "execution_count": null,
   "metadata": {},
   "outputs": [],
   "source": [
    "predict = covid_model(X, params)\n",
    "data[\"predict\"] = predict"
   ]
  },
  {
   "cell_type": "code",
   "execution_count": null,
   "metadata": {},
   "outputs": [],
   "source": [
    "from goad_toolkit.visualizer import ComparePlotDate\n",
    "\n",
    "settings = PlotSettings()\n",
    "compare = ComparePlotDate(settings)\n",
    "compare.plot(\n",
    "    data=data,\n",
    "    x=\"date\",\n",
    "    y1=\"deaths_shifted\",\n",
    "    y2=\"predict\",\n",
    "    date=\"2021-01-06\",\n",
    "    datelabel=\"start vaccinations\",\n",
    ")"
   ]
  },
  {
   "cell_type": "markdown",
   "metadata": {},
   "source": [
    "And lets check the residual. In addition to the model fitting the data, maybe we can see patterns in the residual that can give us clues about how to improve the model."
   ]
  },
  {
   "cell_type": "code",
   "execution_count": null,
   "metadata": {},
   "outputs": [],
   "source": [
    "from goad_toolkit.visualizer import ResidualPlot\n",
    "\n",
    "data[\"residual\"] = data[\"deaths_shifted\"] - data[\"predict\"]\n",
    "settings = PlotSettings(\n",
    "    figsize=(12, 6), title=\"Residual Plot\", xlabel=\"dates\", ylabel=\"error\"\n",
    ")\n",
    "resplot = ResidualPlot(settings)\n",
    "fig, _ = resplot.plot(\n",
    "    data=data,\n",
    "    x=\"date\",\n",
    "    y=\"residual\",\n",
    "    date=\"2021-01-06\",\n",
    "    datelabel=\"Vaccination Started\",\n",
    "    interval=1,\n",
    ")"
   ]
  },
  {
   "cell_type": "markdown",
   "metadata": {},
   "source": [
    "# 5. Test the residual"
   ]
  },
  {
   "cell_type": "markdown",
   "metadata": {},
   "source": [
    "In addition to looking at the plots, we can also test the residual. \n",
    "You want to see errors with a mean of 0 and a low variance."
   ]
  },
  {
   "cell_type": "code",
   "execution_count": null,
   "metadata": {},
   "outputs": [],
   "source": [
    "from goad_toolkit.analytics import DistributionFitter\n",
    "\n",
    "fitter = DistributionFitter()\n",
    "fits = fitter.fit(data[\"residual\"], discrete=False)\n",
    "best = fitter.best(fits)\n",
    "best"
   ]
  },
  {
   "cell_type": "code",
   "execution_count": null,
   "metadata": {},
   "outputs": [],
   "source": [
    "from goad_toolkit.visualizer import PlotFits, PlotSettings, FitPlotSettings\n",
    "\n",
    "settings = PlotSettings(\n",
    "    figsize=(12, 6), title=\"Residuals\", xlabel=\"error\", ylabel=\"probability\"\n",
    ")\n",
    "fitplotsettings = FitPlotSettings(bins=30, max_fits=3)\n",
    "fitplotter = PlotFits(settings)\n",
    "fig = fitplotter.plot(\n",
    "    data=data[\"residual\"], fit_results=fits, fitplotsettings=fitplotsettings\n",
    ")"
   ]
  }
 ],
 "metadata": {
  "kernelspec": {
   "display_name": ".venv",
   "language": "python",
   "name": "python3"
  },
  "language_info": {
   "codemirror_mode": {
    "name": "ipython",
    "version": 3
   },
   "file_extension": ".py",
   "mimetype": "text/x-python",
   "name": "python",
   "nbconvert_exporter": "python",
   "pygments_lexer": "ipython3",
   "version": "3.12.8"
  }
 },
 "nbformat": 4,
 "nbformat_minor": 2
}
